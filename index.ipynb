{
 "cells": [
  {
   "cell_type": "code",
   "execution_count": null,
   "metadata": {},
   "outputs": [],
   "source": [
    "# Assignment #02 ( List, Dictionary, Loops, if-else)::"
   ]
  },
  {
   "cell_type": "code",
   "execution_count": null,
   "metadata": {},
   "outputs": [],
   "source": [
    "# Scenario 1: Grocery Shopping List \n",
    "# You are creating a program to manage a grocery shopping list. Users should be able to add items, \n",
    "# remove items, and display the current list"
   ]
  },
  {
   "cell_type": "code",
   "execution_count": null,
   "metadata": {},
   "outputs": [],
   "source": [
    "grocery = []\n",
    "for i in range(1,6):\n",
    "    items = input(f\"Enter your {i} items:\")\n",
    "    grocery.append(items)\n",
    "print(grocery)\n",
    "\n",
    "Permission = input(\"Do you want to remove items (YES/NO)\")\n",
    "\n",
    "if Permission == 'YES':\n",
    "    drop  = input(\"Which item do you want to remove ?\")\n",
    "    if drop in grocery:\n",
    "        grocery.remove(drop)\n",
    "        print(grocery)\n",
    "        Permission2 = input('Do you want to add items(YES/NO)')\n",
    "        if Permission2 == 'yes':\n",
    "            addition = input(\"which items do you wnat to add:\")\n",
    "            grocery.append(addition)\n",
    "            print(grocery)\n",
    "        elif Permission2 == 'YES':\n",
    "            addition = input(\"which items do you wnat to add:\")\n",
    "            grocery.append(addition)\n",
    "            print(grocery)\n",
    "        else:\n",
    "            print(f\"your items {grocery}\")        \n",
    "\n",
    "elif Permission == 'yes':\n",
    "    drop  = input(\"Which item do you want to remove ?\")\n",
    "    if drop in grocery:\n",
    "        grocery.remove(drop)\n",
    "        print(grocery)\n",
    "        Permission2 = input('Do you want to add items(YES/NO)')\n",
    "        if Permission2 == 'yes':\n",
    "            addition = input(\"which items do you wnat to add:\")\n",
    "            grocery.append(addition)\n",
    "            print(grocery)\n",
    "        elif Permission2 == 'YES':\n",
    "            addition = input(\"which items do you wnat to add:\")\n",
    "            grocery.append(addition)\n",
    "            print(grocery)\n",
    "        else:\n",
    "            print(f\"your items {grocery}\")      \n",
    "    \n",
    "else:\n",
    "    print(f'OK! your list')\n",
    "print(f\"Your current Items List:{grocery}\")"
   ]
  },
  {
   "cell_type": "code",
   "execution_count": null,
   "metadata": {},
   "outputs": [],
   "source": [
    "# Scenario 2: Student Grades::\n",
    "# You are managing student grades using a dictionary. You need to calculate the average grade.take \n",
    "# atleast 5 Students grades & then calculate the average ."
   ]
  },
  {
   "cell_type": "code",
   "execution_count": null,
   "metadata": {},
   "outputs": [],
   "source": [
    "student_grade = {}\n",
    "\n",
    "for i in range(5):\n",
    "    name = input(\"Enter your Name:\")\n",
    "    grade = int(input(\"Enter your grade:\"))\n",
    "    student_grade[name] = grade\n",
    "\n",
    "total = sum(student_grade.values())\n",
    "average = total /len(student_grade.values())\n",
    "\n",
    "print(average)"
   ]
  },
  {
   "cell_type": "code",
   "execution_count": null,
   "metadata": {},
   "outputs": [],
   "source": [
    "# Scenario 3: Word Frequency Counter:\n",
    "# You are given a list of words, and you need to count the frequency of each word.\n",
    "# word_list = [\"apple\", \"banana\", \"apple\", \"orange\", \"banana\", \"grape\", \"apple\"]:"
   ]
  },
  {
   "cell_type": "code",
   "execution_count": null,
   "metadata": {},
   "outputs": [],
   "source": [
    "word_list = [\"apple\", \"banana\", \"apple\", \"orange\", \"banana\", \"grape\", \"apple\"]\n",
    "fre = {}\n",
    "for i in word_list:\n",
    "    if i in fre:\n",
    "        fre[i] += 1\n",
    "    else:\n",
    "        fre[i] = 1    \n",
    "\n",
    "print(fre)\n",
    "print(i)\n"
   ]
  },
  {
   "cell_type": "code",
   "execution_count": null,
   "metadata": {},
   "outputs": [],
   "source": [
    "# # Scenario 04: Voting System (Annual Employee Recognition Awards)\n",
    "# You are developing a simple voting system for a contest. Users can vote for their Favorite option, and \n",
    "# you need to count the votes.\n",
    "# In a corporate setting, the HR department is organizing the Annual Employee Recognition Awards, \n",
    "# where employees get the opportunity to vote for their colleagues nominated in different categories. \n",
    "# The HR team has decided to use a simple voting system to collect and tally votes for the nominees in \n",
    "# various award categories. The script provided will be utilized for this purpose.\n",
    "# Candidates: The nominees for different award categories, such as \"Employee of the Year,\" \"Team \n",
    "# Player of the Year,\" and \"Innovation Award,\" are represented by the list of candidates: 'Candidate A,' \n",
    "# 'Candidate B,' and 'Candidate C.'\n",
    "# Voting Process: Employees are requested to input the number of voters participating in the awards. \n",
    "# Each voter is presented with a list of nominees, and they can vote for their preferred candidate by \n",
    "# entering the corresponding number.\n",
    "# Validation: The script ensures that the entered vote is within the valid range of candidates. If an \n",
    "# employee enters an invalid vote, the system prompts them to choose a valid candidate.\n",
    "# Recording Votes: The script records each vote for the selected candidate and prints a confirmation \n",
    "# message indicating that the vote has been recorded.\n",
    "# Results Display: Once all votes are collected, the system displays the voting results, showing the \n",
    "# number of votes each candidate received in each category.\n",
    "# Award Winners: Based on the voting results, the HR department can identify the winners for each \n",
    "# award category and proceed with recognizing and rewarding the selected employees during the \n",
    "# Annual Employee Recognition Ceremony.\n",
    "# This script provides a straightforward and transparent way for employees to participate in the \n",
    "# recognition process, fostering a sense of engagement and community within the organization. The \n",
    "# HR team can use the collected votes to acknowledge and appreciate the efforts of outstanding \n",
    "# employees in various aspects of their ."
   ]
  },
  {
   "cell_type": "code",
   "execution_count": 1,
   "metadata": {},
   "outputs": [
    {
     "name": "stdout",
     "output_type": "stream",
     "text": [
      "Over Candidates \n",
      " CandidateA \n",
      " CandidateB \n",
      " CandidateC\n",
      "Please select Candidates:\n",
      "Your vote ['c', 'b', 'a', 'c']\n"
     ]
    }
   ],
   "source": [
    "print(\"Over Candidates \\n CandidateA \\n CandidateB \\n CandidateC  \")\n",
    "employees_vote = []\n",
    "emps = int(input(\"::How many employee  are participate::\"))\n",
    "for i in range(emps):\n",
    "    vote = input(\"Which Candidate do you want to choose CandidateA (A),CandidateB (B),CandidateC (C) \")\n",
    "    if vote == \"a\" or vote == \"A\":\n",
    "        employees_vote.append(vote)\n",
    "    elif vote == \"B\" or vote == \"b\":\n",
    "        employees_vote.append(vote)\n",
    "    elif vote == \"C\" or vote == \"c\":\n",
    "        employees_vote.append(vote)\n",
    "    else:\n",
    "        print(\"Please select Candidates:\")\n",
    "\n",
    "print(f\"Your vote {employees_vote}\")                    \n"
   ]
  }
 ],
 "metadata": {
  "kernelspec": {
   "display_name": "Python 3",
   "language": "python",
   "name": "python3"
  },
  "language_info": {
   "codemirror_mode": {
    "name": "ipython",
    "version": 3
   },
   "file_extension": ".py",
   "mimetype": "text/x-python",
   "name": "python",
   "nbconvert_exporter": "python",
   "pygments_lexer": "ipython3",
   "version": "3.11.5"
  }
 },
 "nbformat": 4,
 "nbformat_minor": 2
}
